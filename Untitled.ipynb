{
 "cells": [
  {
   "cell_type": "code",
   "execution_count": 1,
   "id": "a42ca84d",
   "metadata": {},
   "outputs": [
    {
     "name": "stdout",
     "output_type": "stream",
     "text": [
      "****************************************\n"
     ]
    }
   ],
   "source": [
    "print('****************************************')"
   ]
  },
  {
   "cell_type": "code",
   "execution_count": 2,
   "id": "171dbee9",
   "metadata": {},
   "outputs": [
    {
     "name": "stdout",
     "output_type": "stream",
     "text": [
      "Gigi's cafe\n"
     ]
    }
   ],
   "source": [
    "print(\"Gigi's cafe\")"
   ]
  },
  {
   "cell_type": "code",
   "execution_count": 3,
   "id": "94459f7f",
   "metadata": {},
   "outputs": [
    {
     "name": "stdout",
     "output_type": "stream",
     "text": [
      "Number of coffees bought?\n"
     ]
    }
   ],
   "source": [
    "print(\"Number of coffees bought?\")"
   ]
  },
  {
   "cell_type": "code",
   "execution_count": 4,
   "id": "a3228334",
   "metadata": {},
   "outputs": [
    {
     "name": "stdout",
     "output_type": "stream",
     "text": [
      "Enter the number of coffees:4\n"
     ]
    }
   ],
   "source": [
    "coffees = int(input(\"Enter the number of coffees:\"))"
   ]
  },
  {
   "cell_type": "code",
   "execution_count": 5,
   "id": "6ecd2192",
   "metadata": {},
   "outputs": [
    {
     "name": "stdout",
     "output_type": "stream",
     "text": [
      "Number of Cookies bought?\n"
     ]
    }
   ],
   "source": [
    "print(\"Number of Cookies bought?\")"
   ]
  },
  {
   "cell_type": "code",
   "execution_count": 6,
   "id": "ced77509",
   "metadata": {},
   "outputs": [
    {
     "name": "stdout",
     "output_type": "stream",
     "text": [
      "Enter the number of cookies:3\n"
     ]
    }
   ],
   "source": [
    "cookies = int(input(\"Enter the number of cookies:\"))"
   ]
  },
  {
   "cell_type": "code",
   "execution_count": 7,
   "id": "f56f6813",
   "metadata": {
    "scrolled": true
   },
   "outputs": [
    {
     "name": "stdout",
     "output_type": "stream",
     "text": [
      "**************************************** \n",
      " \n",
      "****************************************\n"
     ]
    }
   ],
   "source": [
    "print('**************************************** \\n \\n****************************************')"
   ]
  },
  {
   "cell_type": "code",
   "execution_count": 10,
   "id": "b3b54d3b",
   "metadata": {},
   "outputs": [
    {
     "name": "stdout",
     "output_type": "stream",
     "text": [
      "Gigi's cafe receipt\n"
     ]
    }
   ],
   "source": [
    "print(\"Gigi's cafe receipt\")"
   ]
  },
  {
   "cell_type": "code",
   "execution_count": 9,
   "id": "412fef00",
   "metadata": {},
   "outputs": [],
   "source": [
    "coffee_price = 3.99"
   ]
  },
  {
   "cell_type": "code",
   "execution_count": 25,
   "id": "52fc44a6",
   "metadata": {},
   "outputs": [],
   "source": [
    "total_coffee = (coffees * coffee_price)"
   ]
  },
  {
   "cell_type": "code",
   "execution_count": 69,
   "id": "1b9b9dcd",
   "metadata": {},
   "outputs": [],
   "source": [
    "cookie_price = 2"
   ]
  },
  {
   "cell_type": "code",
   "execution_count": 68,
   "id": "bfa8430d",
   "metadata": {},
   "outputs": [],
   "source": [
    "total_cookie = (cookies * cookie_price)"
   ]
  },
  {
   "cell_type": "code",
   "execution_count": 12,
   "id": "ec58d1b5",
   "metadata": {},
   "outputs": [],
   "source": [
    "total_cost_before_tax = (coffees * coffee_price) + (cookies * cookie_price)"
   ]
  },
  {
   "cell_type": "code",
   "execution_count": 16,
   "id": "2a0c21f1",
   "metadata": {},
   "outputs": [],
   "source": [
    "sales_tax = total_cost_before_tax * 0.06"
   ]
  },
  {
   "cell_type": "code",
   "execution_count": 17,
   "id": "a4bb99ea",
   "metadata": {},
   "outputs": [],
   "source": [
    "total_cost_after_tax = total_cost_before_tax + sales_tax"
   ]
  },
  {
   "cell_type": "code",
   "execution_count": 47,
   "id": "8a08b049",
   "metadata": {},
   "outputs": [
    {
     "name": "stdout",
     "output_type": "stream",
     "text": [
      "4 Coffees at $3.99 each: $ 15.96\n"
     ]
    }
   ],
   "source": [
    "print(f\"{coffees} Coffees at ${coffee_price} each: $ {total_coffee}\")"
   ]
  },
  {
   "cell_type": "code",
   "execution_count": 70,
   "id": "678603c8",
   "metadata": {},
   "outputs": [
    {
     "name": "stdout",
     "output_type": "stream",
     "text": [
      "3 Cookies at $2 each: $ 6\n"
     ]
    }
   ],
   "source": [
    "print(f\"{cookies} Cookies at ${cookie_price} each: $ {total_cookie}\")"
   ]
  },
  {
   "cell_type": "code",
   "execution_count": 76,
   "id": "29c07313",
   "metadata": {},
   "outputs": [
    {
     "name": "stdout",
     "output_type": "stream",
     "text": [
      "6% tax: $1.4058\n"
     ]
    }
   ],
   "source": [
    "print(f\"6% tax: ${sales_tax}\")"
   ]
  },
  {
   "cell_type": "code",
   "execution_count": 78,
   "id": "b9ddd82b",
   "metadata": {},
   "outputs": [
    {
     "name": "stdout",
     "output_type": "stream",
     "text": [
      "------\n"
     ]
    }
   ],
   "source": [
    "print(\"------\")"
   ]
  },
  {
   "cell_type": "code",
   "execution_count": 80,
   "id": "9c3ac6f3",
   "metadata": {},
   "outputs": [
    {
     "name": "stdout",
     "output_type": "stream",
     "text": [
      "Total: $24.8358\n"
     ]
    }
   ],
   "source": [
    "print(f\"Total: ${total_cost_after_tax}\")"
   ]
  },
  {
   "cell_type": "code",
   "execution_count": 81,
   "id": "87aacd40",
   "metadata": {},
   "outputs": [
    {
     "name": "stdout",
     "output_type": "stream",
     "text": [
      "****************************************\n"
     ]
    }
   ],
   "source": [
    "print('****************************************')"
   ]
  },
  {
   "cell_type": "code",
   "execution_count": null,
   "id": "f9fcd3f9",
   "metadata": {},
   "outputs": [],
   "source": []
  }
 ],
 "metadata": {
  "kernelspec": {
   "display_name": "Python 3 (ipykernel)",
   "language": "python",
   "name": "python3"
  },
  "language_info": {
   "codemirror_mode": {
    "name": "ipython",
    "version": 3
   },
   "file_extension": ".py",
   "mimetype": "text/x-python",
   "name": "python",
   "nbconvert_exporter": "python",
   "pygments_lexer": "ipython3",
   "version": "3.11.5"
  }
 },
 "nbformat": 4,
 "nbformat_minor": 5
}
